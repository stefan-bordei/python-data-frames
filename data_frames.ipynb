{
 "cells": [
  {
   "cell_type": "markdown",
   "metadata": {},
   "source": [
    "# Data Frame system\n",
    "### Stefan-Cristian Bordei"
   ]
  },
  {
   "cell_type": "markdown",
   "metadata": {},
   "source": [
    "# Code"
   ]
  },
  {
   "cell_type": "code",
   "execution_count": 1,
   "metadata": {},
   "outputs": [],
   "source": [
    "import numbers\n",
    "\n",
    "\n",
    "class MySeries:\n",
    "    def __init__(self, data, index=None, name=None):\n",
    "        \"\"\"\n",
    "        Indexed series stored as a dict.\n",
    "\n",
    "        :param data: list, dict\n",
    "                    Contains data stored in series.\n",
    "        :param index: array-like, optional\n",
    "        \"\"\"\n",
    "\n",
    "        assert data is not None, \"please provide data\"\n",
    "        assert isinstance(data, list) or isinstance(data, dict), \\\n",
    "            \"data must be list or dict\"\n",
    "        assert index is None or len(data) == len(index), \\\n",
    "            \"index len must be equal to data len\"\n",
    "\n",
    "        self.s_dict = {}\n",
    "        self.name = name\n",
    "\n",
    "        if isinstance(data, dict):\n",
    "            self.s_dict = data\n",
    "        else:\n",
    "            # if data is a list check if an index list has been\n",
    "            # provided and map the entries or map against default\n",
    "            # indices\n",
    "            idx = index if index is not None else range(len(data))\n",
    "            for i, k in zip(idx, data):\n",
    "                self.s_dict[i] = k\n",
    "\n",
    "    def min(self):\n",
    "        assert all(isinstance(val, numbers.Number) for val in self.s_dict.values()), \\\n",
    "            \"min must be performed on numeric values\"\n",
    "        return min(self.s_dict.values())\n",
    "\n",
    "    def max(self):\n",
    "        assert all(isinstance(val, numbers.Number) for val in self.s_dict.values()), \\\n",
    "            \"max must be performed on numeric values\"\n",
    "        return max(self.s_dict.values())\n",
    "\n",
    "    def mean(self):\n",
    "        assert all(isinstance(val, numbers.Number) for val in self.s_dict.values()), \\\n",
    "            \"mean must be performed on numeric values\"\n",
    "        return sum(self.s_dict.values()) / len(self.s_dict.values())\n",
    "\n",
    "    def print(self):\n",
    "        for k, v in self.s_dict.items():\n",
    "            print(f\"{k}\\t\", end='')\n",
    "            if isinstance(v, list):\n",
    "                for item in v:\n",
    "                    print(f\"{item}\\t\", end='')\n",
    "            else:\n",
    "                print(f\"{v}\\t\", end='')\n",
    "            print()\n",
    "\n",
    "    def item_at_ind(self, i):\n",
    "        return self.s_dict[i]\n",
    "\n",
    "    def size(self):\n",
    "        return len(self.s_dict.values())\n",
    "\n",
    "    def sort_by_index(self, index_list):\n",
    "        keys = list(self.s_dict.keys())\n",
    "        val = list(self.s_dict.values())\n",
    "        sorted_dict = {}\n",
    "\n",
    "        sorted_val = [val[j] for j in index_list]\n",
    "        for k, v in zip(keys, sorted_val):\n",
    "            sorted_dict[k] = v\n",
    "        self.s_dict = sorted_dict"
   ]
  },
  {
   "cell_type": "code",
   "execution_count": 2,
   "metadata": {},
   "outputs": [],
   "source": [
    "class MyDataFrame:\n",
    "    def __init__(self, data, index=None):\n",
    "        \"\"\"\n",
    "            Dataframe two-dimensional tabular data.\n",
    "        :param data: dict\n",
    "                    Contains data stored in DataFrame\n",
    "        :param index: array-like, optional\n",
    "                    Contains row label list\n",
    "        \"\"\"\n",
    "        assert isinstance(data, dict), \"data must be a dict\"\n",
    "        assert index is None or all(len(index) == len(val) for val in data.values()), \\\n",
    "            \"the number of rows (index) must match the number items in data values\"\n",
    "\n",
    "        # DataFrame columns with name/label (MySeries list)\n",
    "        self.columns = []\n",
    "        for k, v in data.items():\n",
    "            self.columns.append(MySeries(v, name=k))\n",
    "\n",
    "        assert all(self.columns[0].size() == val.size() for val in self.columns), \\\n",
    "            \"data values must have same len\"\n",
    "\n",
    "        # DataFrame row labels\n",
    "        self.index = index if index is not None else range(self.columns[0].size())\n",
    "\n",
    "    def min(self):\n",
    "        for series in self.columns:\n",
    "            try:\n",
    "                print(f\"{series.name:<12}\\t{series.min():>12.2f}\")\n",
    "            except AssertionError:\n",
    "                # skip invalid column types\n",
    "                continue\n",
    "\n",
    "    def max(self):\n",
    "        for series in self.columns:\n",
    "            try:\n",
    "                print(f\"{series.name:<12}\\t{series.max():>12.2f}\")\n",
    "            except AssertionError:\n",
    "                # skip invalid column types\n",
    "                continue\n",
    "\n",
    "    def mean(self):\n",
    "        for series in self.columns:\n",
    "            try:\n",
    "                print(f\"{series.name:<12}\\t{series.mean():>12.2f}\")\n",
    "            except AssertionError:\n",
    "                # skip invalid column types\n",
    "                continue\n",
    "\n",
    "    def print(self):\n",
    "        print('\\t', end='')\n",
    "        for series in self.columns:\n",
    "            print(\"{:^17} \".format(series.name), end='')\n",
    "        print()\n",
    "        for i in range(len(self.index)):\n",
    "            print(f\"{self.index[i]:<13}\", end='')\n",
    "            for j in range(len(self.columns)):\n",
    "                print(f\"{self.columns[j].item_at_ind(i):<19}\", end='')\n",
    "            print()\n",
    "\n",
    "    def sort_values(self, column_name):\n",
    "        sorted_index_list = []\n",
    "\n",
    "        # find column to sort by and build the\n",
    "        # corresponding ordered list of indices\n",
    "        for col in self.columns:\n",
    "            if col.name == column_name:\n",
    "                sorted_index_list = [i[0] for i in sorted(enumerate(col.s_dict.values()),\n",
    "                                                          key=lambda x: x[1])]\n",
    "        if not sorted_index_list:\n",
    "            print(f\"Column {column_name} not found. No sorting will be performed.\")\n",
    "            return\n",
    "\n",
    "        # sort all column series and the df index by sorted_index_list\n",
    "        for col in self.columns:\n",
    "            col.sort_by_index(sorted_index_list)\n",
    "        self.index = [self.index[x] for x in sorted_index_list]"
   ]
  },
  {
   "cell_type": "markdown",
   "metadata": {},
   "source": [
    "# Running the code on samples provided"
   ]
  },
  {
   "cell_type": "markdown",
   "metadata": {},
   "source": [
    "## MySeries"
   ]
  },
  {
   "cell_type": "markdown",
   "metadata": {},
   "source": [
    "### Sample 1"
   ]
  },
  {
   "cell_type": "code",
   "execution_count": 3,
   "metadata": {},
   "outputs": [
    {
     "data": {
      "text/plain": [
       "{'a': 1, 'b': 2, 'c': 1}"
      ]
     },
     "execution_count": 3,
     "metadata": {},
     "output_type": "execute_result"
    }
   ],
   "source": [
    "ms3 = MySeries([1,2,1], index = ['a','b','c'])\n",
    "ms3.s_dict"
   ]
  },
  {
   "cell_type": "code",
   "execution_count": 4,
   "metadata": {},
   "outputs": [
    {
     "data": {
      "text/plain": [
       "{0: 4, 1: 5, 2: 6}"
      ]
     },
     "execution_count": 4,
     "metadata": {},
     "output_type": "execute_result"
    }
   ],
   "source": [
    "ms4 = MySeries([4,5,6])\n",
    "ms4.s_dict"
   ]
  },
  {
   "cell_type": "code",
   "execution_count": 5,
   "metadata": {},
   "outputs": [
    {
     "data": {
      "text/plain": [
       "{'b': 1, 'a': 0, 'c': 2}"
      ]
     },
     "execution_count": 5,
     "metadata": {},
     "output_type": "execute_result"
    }
   ],
   "source": [
    "d = {'b': 1, 'a': 0, 'c': 2}\n",
    "s2 = MySeries(d)\n",
    "s2.s_dict"
   ]
  },
  {
   "cell_type": "markdown",
   "metadata": {},
   "source": [
    "### Sample 2 (not provided but checks min, max and mean on ms3)"
   ]
  },
  {
   "cell_type": "code",
   "execution_count": 6,
   "metadata": {},
   "outputs": [
    {
     "data": {
      "text/plain": [
       "1"
      ]
     },
     "execution_count": 6,
     "metadata": {},
     "output_type": "execute_result"
    }
   ],
   "source": [
    "ms3.min()"
   ]
  },
  {
   "cell_type": "code",
   "execution_count": 7,
   "metadata": {},
   "outputs": [
    {
     "data": {
      "text/plain": [
       "2"
      ]
     },
     "execution_count": 7,
     "metadata": {},
     "output_type": "execute_result"
    }
   ],
   "source": [
    "ms3.max()"
   ]
  },
  {
   "cell_type": "code",
   "execution_count": 8,
   "metadata": {},
   "outputs": [
    {
     "data": {
      "text/plain": [
       "1.3333333333333333"
      ]
     },
     "execution_count": 8,
     "metadata": {},
     "output_type": "execute_result"
    }
   ],
   "source": [
    "ms3.mean()"
   ]
  },
  {
   "cell_type": "markdown",
   "metadata": {},
   "source": [
    "### Sample 3"
   ]
  },
  {
   "cell_type": "code",
   "execution_count": 9,
   "metadata": {},
   "outputs": [
    {
     "name": "stdout",
     "output_type": "stream",
     "text": [
      "a\t1\t\n",
      "b\t2\t\n",
      "c\t1\t\n"
     ]
    }
   ],
   "source": [
    "ms3 = MySeries([1,2,1], index = ['a','b','c'])\n",
    "ms3.print()"
   ]
  },
  {
   "cell_type": "code",
   "execution_count": 10,
   "metadata": {},
   "outputs": [
    {
     "data": {
      "text/plain": [
       "1"
      ]
     },
     "execution_count": 10,
     "metadata": {},
     "output_type": "execute_result"
    }
   ],
   "source": [
    "ms3.item_at_ind('c')"
   ]
  },
  {
   "cell_type": "markdown",
   "metadata": {},
   "source": [
    "## MyDataFrame"
   ]
  },
  {
   "cell_type": "markdown",
   "metadata": {},
   "source": [
    "### Sample 1"
   ]
  },
  {
   "cell_type": "code",
   "execution_count": 11,
   "metadata": {},
   "outputs": [],
   "source": [
    "d = {'Sun Hours': [4.5,4.0,5.1,5],\n",
    "     'Max Temp': [19.6,19.1,19.6,20.0],\n",
    "     'Min Temp': [12.7,12.5,13.3,12.1],\n",
    "     'Rain (mm)': [82,109,65,76],\n",
    "     'Rain Days': [13,20,10,9.7]}\n",
    "df1 = MyDataFrame(d)\n",
    "df2 = MyDataFrame(d, index = ['Clare', 'Galway','Dublin', \n",
    "  'Wexford'])"
   ]
  },
  {
   "cell_type": "code",
   "execution_count": 12,
   "metadata": {},
   "outputs": [
    {
     "name": "stdout",
     "output_type": "stream",
     "text": [
      "\t    Sun Hours         Max Temp          Min Temp          Rain (mm)         Rain Days     \n",
      "Clare        4.5                19.6               12.7               82                 13                 \n",
      "Galway       4.0                19.1               12.5               109                20                 \n",
      "Dublin       5.1                19.6               13.3               65                 10                 \n",
      "Wexford      5                  20.0               12.1               76                 9.7                \n"
     ]
    }
   ],
   "source": [
    "df2.print()"
   ]
  },
  {
   "cell_type": "markdown",
   "metadata": {},
   "source": [
    "### Sample 2"
   ]
  },
  {
   "cell_type": "code",
   "execution_count": 13,
   "metadata": {},
   "outputs": [
    {
     "name": "stdout",
     "output_type": "stream",
     "text": [
      "\t    Sun Hours         Max Temp          Min Temp          Rain (mm)         Rain Days     \n",
      "Dublin       5.1                19.6               13.3               65                 10                 \n",
      "Wexford      5                  20.0               12.1               76                 9.7                \n",
      "Clare        4.5                19.6               12.7               82                 13                 \n",
      "Galway       4.0                19.1               12.5               109                20                 \n"
     ]
    }
   ],
   "source": [
    "df2.sort_values('Rain (mm)')\n",
    "df2.print()"
   ]
  },
  {
   "cell_type": "code",
   "execution_count": 14,
   "metadata": {},
   "outputs": [
    {
     "name": "stdout",
     "output_type": "stream",
     "text": [
      "Sun Hours   \t        4.65\n",
      "Max Temp    \t       19.58\n",
      "Min Temp    \t       12.65\n",
      "Rain (mm)   \t       83.00\n",
      "Rain Days   \t       13.18\n"
     ]
    }
   ],
   "source": [
    "df2.mean()"
   ]
  },
  {
   "cell_type": "code",
   "execution_count": 15,
   "metadata": {},
   "outputs": [
    {
     "name": "stdout",
     "output_type": "stream",
     "text": [
      "Sun Hours   \t        5.10\n",
      "Max Temp    \t       20.00\n",
      "Min Temp    \t       13.30\n",
      "Rain (mm)   \t      109.00\n",
      "Rain Days   \t       20.00\n"
     ]
    }
   ],
   "source": [
    "df2.max()"
   ]
  },
  {
   "cell_type": "code",
   "execution_count": 16,
   "metadata": {},
   "outputs": [
    {
     "name": "stdout",
     "output_type": "stream",
     "text": [
      "Sun Hours   \t        4.00\n",
      "Max Temp    \t       19.10\n",
      "Min Temp    \t       12.10\n",
      "Rain (mm)   \t       65.00\n",
      "Rain Days   \t        9.70\n"
     ]
    }
   ],
   "source": [
    "df2.min()"
   ]
  },
  {
   "cell_type": "markdown",
   "metadata": {},
   "source": [
    "### Sample 3 (films)"
   ]
  },
  {
   "cell_type": "code",
   "execution_count": 17,
   "metadata": {},
   "outputs": [
    {
     "name": "stdout",
     "output_type": "stream",
     "text": [
      "\t      Rank          Release Year       IMDB Rating     Time (minutes)      Main Genre     \n",
      "Sting        112                1973               8.3                129                Comedy             \n",
      "Shining      62                 1980               8.4                146                Horror             \n",
      "Psycho       41                 1960               8.5                109                Horror             \n",
      "Room         172                2015               8.1                118                Drama              \n",
      "Rocky        230                1976               8.1                120                Drama              \n",
      "Fargo        176                1996               8.1                98                 Drama              \n"
     ]
    }
   ],
   "source": [
    "films = {'Rank': [112,62,41,172,230,176],\n",
    "        'Release Year': [1973,1980,1960,2015,1976,1996],\n",
    "        'IMDB Rating': [8.3,8.4,8.5,8.1,8.1,8.1],\n",
    "        'Time (minutes)': [129,146,109,118,120,98],\n",
    "        'Main Genre': ['Comedy','Horror','Horror','Drama','Drama','Drama']}\n",
    "f_names = ['Sting','Shining', 'Psycho','Room','Rocky','Fargo']\n",
    "\n",
    "films_df =  MyDataFrame(films, index = f_names) \n",
    "films_df.print()"
   ]
  },
  {
   "cell_type": "code",
   "execution_count": 18,
   "metadata": {},
   "outputs": [
    {
     "name": "stdout",
     "output_type": "stream",
     "text": [
      "Rank        \t      132.17\n",
      "Release Year\t     1983.33\n",
      "IMDB Rating \t        8.25\n",
      "Time (minutes)\t      120.00\n"
     ]
    }
   ],
   "source": [
    "films_df.mean()"
   ]
  },
  {
   "cell_type": "code",
   "execution_count": 19,
   "metadata": {},
   "outputs": [
    {
     "name": "stdout",
     "output_type": "stream",
     "text": [
      "\t      Rank          Release Year       IMDB Rating     Time (minutes)      Main Genre     \n",
      "Psycho       41                 1960               8.5                109                Horror             \n",
      "Sting        112                1973               8.3                129                Comedy             \n",
      "Rocky        230                1976               8.1                120                Drama              \n",
      "Shining      62                 1980               8.4                146                Horror             \n",
      "Fargo        176                1996               8.1                98                 Drama              \n",
      "Room         172                2015               8.1                118                Drama              \n"
     ]
    }
   ],
   "source": [
    "films_df.sort_values('Release Year')\n",
    "films_df.print()"
   ]
  },
  {
   "cell_type": "markdown",
   "metadata": {},
   "source": [
    "### min, max (not included in samples provided)"
   ]
  },
  {
   "cell_type": "code",
   "execution_count": 20,
   "metadata": {},
   "outputs": [
    {
     "name": "stdout",
     "output_type": "stream",
     "text": [
      "Rank        \t       41.00\n",
      "Release Year\t     1960.00\n",
      "IMDB Rating \t        8.10\n",
      "Time (minutes)\t       98.00\n"
     ]
    }
   ],
   "source": [
    "films_df.min()"
   ]
  },
  {
   "cell_type": "code",
   "execution_count": 21,
   "metadata": {},
   "outputs": [
    {
     "name": "stdout",
     "output_type": "stream",
     "text": [
      "Rank        \t      230.00\n",
      "Release Year\t     2015.00\n",
      "IMDB Rating \t        8.50\n",
      "Time (minutes)\t      146.00\n"
     ]
    }
   ],
   "source": [
    "films_df.max()"
   ]
  }
 ],
 "metadata": {
  "kernelspec": {
   "display_name": "Python 3",
   "language": "python",
   "name": "python3"
  },
  "language_info": {
   "codemirror_mode": {
    "name": "ipython",
    "version": 3
   },
   "file_extension": ".py",
   "mimetype": "text/x-python",
   "name": "python",
   "nbconvert_exporter": "python",
   "pygments_lexer": "ipython3",
   "version": "3.8.5"
  }
 },
 "nbformat": 4,
 "nbformat_minor": 4
}
